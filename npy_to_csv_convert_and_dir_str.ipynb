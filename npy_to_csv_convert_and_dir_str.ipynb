{
 "cells": [
  {
   "cell_type": "markdown",
   "metadata": {},
   "source": [
    "# Convert *.npy files (from MINFLUX experiment) to .csv files (for PYME analysis)\n",
    "\n",
    "## Create an appropriate directory structure\n",
    "\n",
    "The directory structure will be as follows:\n",
    "\n",
    "*  data\n",
    "    * raw_data\n",
    "    * processed_data\n",
    "    * metadata\n",
    "    * images\n",
    "* analysis  \n",
    "* figures\n",
    "* scripts\n",
    "* notebooks\n"
   ]
  },
  {
   "cell_type": "code",
   "execution_count": 1,
   "metadata": {},
   "outputs": [
    {
     "name": "stdout",
     "output_type": "stream",
     "text": [
      "Current working directory: c:\\Users\\bokhobza\\OneDrive - Universitaet Bern\\Desktop\\Soeller_lab\\OneDrive - Universitaet Bern\\Code\\MINFLUX_code\n",
      "Folder structure created and files moved successfully.\n",
      "Current working directory: c:\\Users\\bokhobza\\OneDrive - Universitaet Bern\\Desktop\\Soeller_lab\\OneDrive - Universitaet Bern\\Code\\MINFLUX_code\\test_data_copy2\n"
     ]
    }
   ],
   "source": [
    "import os\n",
    "import shutil\n",
    "\n",
    "# Print the current working directory\n",
    "current_dir = os.getcwd()\n",
    "print(f\"Current working directory: {current_dir}\")\n",
    "\n",
    "# Prompt the user for the root directory\n",
    "root_dir = input(\"Enter the root directory path: \")\n",
    "\n",
    "# Check if the specified directory exists\n",
    "if not os.path.exists(root_dir):\n",
    "    print(f\"The specified directory '{root_dir}' does not exist. Exiting.\")\n",
    "else:\n",
    "    # Create the directory structure using os.makedirs()\n",
    "    subfolders = [\"data/raw_data\", \"data/processed_data\", \"data/metadata\", \"data/images\", \"analysis\", \"figures\"]\n",
    "    for folder in subfolders:\n",
    "        folder_path = os.path.join(root_dir, folder)\n",
    "        os.makedirs(folder_path, exist_ok=True)\n",
    "\n",
    "    # Move files with .npy and .msr extensions to the \"raw data\" folder\n",
    "    for root, _, files in os.walk(root_dir):\n",
    "        for file in files:\n",
    "            if file.endswith((\".npy\", \".msr\")):\n",
    "                src_path = os.path.join(root, file)\n",
    "                dest_path = os.path.join(root_dir, \"data/raw_data\", file)\n",
    "                shutil.move(src_path, dest_path)\n",
    "            if file.endswith(\".txt\"):\n",
    "                src_path = os.path.join(root, file)\n",
    "                dest_path = os.path.join(metadata_dir, file)\n",
    "                shutil.move(src_path, dest_path)  \n",
    "\n",
    "    print(\"Folder structure created and files moved successfully.\")\n",
    "\n",
    "# Change the current working directory back to the root directory\n",
    "os.chdir(root_dir)\n",
    "print(f\"Current working directory: {os.getcwd()}\")"
   ]
  },
  {
   "cell_type": "markdown",
   "metadata": {},
   "source": [
    "## Converting the data\n",
    "\n",
    "The converted `*.csv` file are placed in the processed_data folder"
   ]
  },
  {
   "cell_type": "code",
   "execution_count": 3,
   "metadata": {},
   "outputs": [
    {
     "name": "stdout",
     "output_type": "stream",
     "text": [
      "Current working directory: c:\\Users\\bokhobza\\OneDrive - Universitaet Bern\\Desktop\\Soeller_lab\\OneDrive - Universitaet Bern\\Code\\MINFLUX_code\\test_data_copy2\n",
      "converting data\\raw_data\\230713-140344_DNA-PAINT_MP_4nM_all.npy to data\\processed_data\\230713-140344_DNA-PAINT_MP_4nM_all.csv...\n",
      "converting data\\raw_data\\230713-140344_DNA-PAINT_MP_4nM_valid_only.npy to data\\processed_data\\230713-140344_DNA-PAINT_MP_4nM_valid_only.csv...\n",
      "converting data\\raw_data\\230804-144305_minflux_series_A.npy to data\\processed_data\\230804-144305_minflux_series_A.csv...\n",
      "converting data\\raw_data\\230804-153032_minflux_series_B.npy to data\\processed_data\\230804-153032_minflux_series_B.csv...\n",
      "converting data\\raw_data\\230807-120750_minflux_series_B.npy to data\\processed_data\\230807-120750_minflux_series_B.csv...\n",
      "converting data\\raw_data\\230807-142038_minflux_series_D.npy to data\\processed_data\\230807-142038_minflux_series_D.csv...\n"
     ]
    }
   ],
   "source": [
    "# Print the current working directory\n",
    "current_dir = os.getcwd()\n",
    "print(f\"Current working directory: {current_dir}\")\n",
    "\n",
    "# Code to convert npy files to csv files\n",
    "# Data are converted in the processed_data folder\n",
    "\n",
    "from PYMEcs.IO.MINFLUX import minflux_npy2pyme, save_minflux_as_csv\n",
    "\n",
    "from pathlib import Path\n",
    "def convert_npy(name,verbose=True):\n",
    "    outname = Path('data/processed_data') / Path(Path(name).stem + ('.csv'))\n",
    "    if outname.exists():\n",
    "        if verbose:\n",
    "            print(\"PYME CSV file %s already exists, skipping...\" % outname)\n",
    "    else:\n",
    "        Path('data/processed_data').mkdir(exist_ok=True)\n",
    "        if verbose:\n",
    "            print(\"converting %s to %s...\" % (name,outname))\n",
    "        dataset = minflux_npy2pyme(name)\n",
    "        save_minflux_as_csv(dataset,outname)\n",
    "\n",
    "p = Path('./data/raw_data/')\n",
    "for path in p.glob('*.npy'):\n",
    "    convert_npy(path)"
   ]
  }
 ],
 "metadata": {
  "kernelspec": {
   "display_name": "pyme-py37",
   "language": "python",
   "name": "python3"
  },
  "language_info": {
   "codemirror_mode": {
    "name": "ipython",
    "version": 3
   },
   "file_extension": ".py",
   "mimetype": "text/x-python",
   "name": "python",
   "nbconvert_exporter": "python",
   "pygments_lexer": "ipython3",
   "version": "3.7.12"
  },
  "orig_nbformat": 4
 },
 "nbformat": 4,
 "nbformat_minor": 2
}
